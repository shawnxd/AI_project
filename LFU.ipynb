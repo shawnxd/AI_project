{
  "nbformat": 4,
  "nbformat_minor": 0,
  "metadata": {
    "colab": {
      "name": "LFU.ipynb",
      "provenance": [],
      "private_outputs": true,
      "collapsed_sections": [],
      "include_colab_link": true
    },
    "kernelspec": {
      "name": "python3",
      "display_name": "Python 3"
    },
    "accelerator": "GPU"
  },
  "cells": [
    {
      "cell_type": "markdown",
      "metadata": {
        "id": "view-in-github",
        "colab_type": "text"
      },
      "source": [
        "<a href=\"https://colab.research.google.com/github/shawnxd/ai_project/blob/master/LFU.ipynb\" target=\"_parent\"><img src=\"https://colab.research.google.com/assets/colab-badge.svg\" alt=\"Open In Colab\"/></a>"
      ]
    },
    {
      "cell_type": "code",
      "metadata": {
        "id": "PRyXp6FtcQU7",
        "colab_type": "code",
        "colab": {}
      },
      "source": [
        "# LFU: Least Frequently Used using OrderedDict and defaultdict\n",
        "from collections import OrderedDict, defaultdict\n",
        "class LFUCache:\n",
        "  def __init__(self, capacity: int) -> None:\n",
        "    self.key2ValFreq = {} # {key: (val, freq)}\n",
        "    self.freq2KeyValue = defaultdict(OrderedDict)# {freq: OrderedDict}\\\n",
        "    # in which we have key: None as the OrderedDict\n",
        "    self.capacity = capacity\n",
        "    self.minFreq = 1 # reset to 1 when new element is added\n",
        "  def get(self, key):\n",
        "    if key not in self.key2ValFreq:\n",
        "      return -1\n",
        "    val, freq = self.key2ValFreq.pop(key)\n",
        "    self.freq2KeyValue[freq].pop(key)\n",
        "    if len(self.freq2KeyValue[freq]) == 0 and freq == self.minFreq:\n",
        "      self.minFreq = freq + 1\n",
        "    self.freq2KeyValue[freq + 1][key] = None # here don't actually need to store\\\n",
        "    # the value, since the information is already stored in self.key2ValFreq\n",
        "    self.key2ValFreq[key] = (val, freq + 1)\n",
        "    return val\n",
        "  def put(self, key, value):\n",
        "    if self.capacity <= 0:\n",
        "      return \n",
        "    if key in self.key2ValFreq: # if key already exists, use get, then update the key\n",
        "      self.get(key) # update the key freq in dict\n",
        "      self.key2ValFreq[key] = (value, self.key2ValFreq[key][1])\n",
        "      return\n",
        "    if self.capacity <= len(self.key2ValFreq):\n",
        "      delKey, _ = self.freq2KeyValue[self.minFreq].popitem(last=False) # ordered dict, LIFO flase -> FIFO\n",
        "      self.key2ValFreq.pop(delKey)\n",
        "    self.key2ValFreq[key] = (value, 1)\n",
        "    self.freq2KeyValue[1][key] = None\n",
        "    self.minFreq = 1\n"
      ],
      "execution_count": 0,
      "outputs": []
    },
    {
      "cell_type": "code",
      "metadata": {
        "id": "aYOUT0g9kBRI",
        "colab_type": "code",
        "colab": {}
      },
      "source": [
        "cache = LFUCache( 2 )\n",
        "cache.put(1, 1)\n",
        "cache.put(2, 2)\n",
        "print(cache.get(1))       # // returns 1\n",
        "cache.put(3, 3)           # // evicts key 2\n",
        "print(cache.get(2))       # // returns -1 (not found)\n",
        "print(cache.get(3))       # // returns 3.\n",
        "cache.put(4, 4)           # // evicts key 1.\n",
        "print(cache.get(1))       # // returns -1 (not found)\n",
        "print(cache.get(3))       # // returns 3\n",
        "print(cache.get(4))       # // returns 4"
      ],
      "execution_count": 0,
      "outputs": []
    }
  ]
}